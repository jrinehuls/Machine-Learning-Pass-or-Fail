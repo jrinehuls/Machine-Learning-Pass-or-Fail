{
 "cells": [
  {
   "cell_type": "markdown",
   "id": "77ad69d4",
   "metadata": {},
   "source": [
    "# Instructions\n",
    "Click the run button in order from top to bottom for items with \"In [ ]\" next to them."
   ]
  },
  {
   "cell_type": "markdown",
   "id": "93d14351",
   "metadata": {},
   "source": [
    "## Import the Libraries to Use"
   ]
  },
  {
   "cell_type": "code",
   "execution_count": 31,
   "id": "135dc4db",
   "metadata": {},
   "outputs": [],
   "source": [
    "import pandas as pd\n",
    "import matplotlib.pyplot as plt\n",
    "from sklearn import linear_model, metrics, model_selection"
   ]
  },
  {
   "cell_type": "markdown",
   "id": "b3f26132",
   "metadata": {},
   "source": [
    "## Read csv Into a Data Frame"
   ]
  },
  {
   "cell_type": "code",
   "execution_count": 32,
   "id": "2ac0db07",
   "metadata": {
    "scrolled": true
   },
   "outputs": [],
   "source": [
    "df = pd.read_csv(\"exams.csv\")"
   ]
  },
  {
   "cell_type": "markdown",
   "id": "a83055f3",
   "metadata": {},
   "source": [
    "## Table Head\n",
    "Shows the first ten rows to get an idea of the data we're working with"
   ]
  },
  {
   "cell_type": "code",
   "execution_count": 33,
   "id": "a887eac8",
   "metadata": {},
   "outputs": [
    {
     "data": {
      "text/html": [
       "<div>\n",
       "<style scoped>\n",
       "    .dataframe tbody tr th:only-of-type {\n",
       "        vertical-align: middle;\n",
       "    }\n",
       "\n",
       "    .dataframe tbody tr th {\n",
       "        vertical-align: top;\n",
       "    }\n",
       "\n",
       "    .dataframe thead th {\n",
       "        text-align: right;\n",
       "    }\n",
       "</style>\n",
       "<table border=\"1\" class=\"dataframe\">\n",
       "  <thead>\n",
       "    <tr style=\"text-align: right;\">\n",
       "      <th></th>\n",
       "      <th>gender</th>\n",
       "      <th>race/ethnicity</th>\n",
       "      <th>parental level of education</th>\n",
       "      <th>lunch</th>\n",
       "      <th>test preparation course</th>\n",
       "      <th>math score</th>\n",
       "      <th>reading score</th>\n",
       "      <th>writing score</th>\n",
       "    </tr>\n",
       "  </thead>\n",
       "  <tbody>\n",
       "    <tr>\n",
       "      <th>0</th>\n",
       "      <td>male</td>\n",
       "      <td>group A</td>\n",
       "      <td>high school</td>\n",
       "      <td>standard</td>\n",
       "      <td>completed</td>\n",
       "      <td>67</td>\n",
       "      <td>67</td>\n",
       "      <td>63</td>\n",
       "    </tr>\n",
       "    <tr>\n",
       "      <th>1</th>\n",
       "      <td>female</td>\n",
       "      <td>group D</td>\n",
       "      <td>some high school</td>\n",
       "      <td>free/reduced</td>\n",
       "      <td>none</td>\n",
       "      <td>40</td>\n",
       "      <td>59</td>\n",
       "      <td>55</td>\n",
       "    </tr>\n",
       "    <tr>\n",
       "      <th>2</th>\n",
       "      <td>male</td>\n",
       "      <td>group E</td>\n",
       "      <td>some college</td>\n",
       "      <td>free/reduced</td>\n",
       "      <td>none</td>\n",
       "      <td>59</td>\n",
       "      <td>60</td>\n",
       "      <td>50</td>\n",
       "    </tr>\n",
       "    <tr>\n",
       "      <th>3</th>\n",
       "      <td>male</td>\n",
       "      <td>group B</td>\n",
       "      <td>high school</td>\n",
       "      <td>standard</td>\n",
       "      <td>none</td>\n",
       "      <td>77</td>\n",
       "      <td>78</td>\n",
       "      <td>68</td>\n",
       "    </tr>\n",
       "    <tr>\n",
       "      <th>4</th>\n",
       "      <td>male</td>\n",
       "      <td>group E</td>\n",
       "      <td>associate's degree</td>\n",
       "      <td>standard</td>\n",
       "      <td>completed</td>\n",
       "      <td>78</td>\n",
       "      <td>73</td>\n",
       "      <td>68</td>\n",
       "    </tr>\n",
       "    <tr>\n",
       "      <th>5</th>\n",
       "      <td>female</td>\n",
       "      <td>group D</td>\n",
       "      <td>high school</td>\n",
       "      <td>standard</td>\n",
       "      <td>none</td>\n",
       "      <td>63</td>\n",
       "      <td>77</td>\n",
       "      <td>76</td>\n",
       "    </tr>\n",
       "    <tr>\n",
       "      <th>6</th>\n",
       "      <td>female</td>\n",
       "      <td>group A</td>\n",
       "      <td>bachelor's degree</td>\n",
       "      <td>standard</td>\n",
       "      <td>none</td>\n",
       "      <td>62</td>\n",
       "      <td>59</td>\n",
       "      <td>63</td>\n",
       "    </tr>\n",
       "    <tr>\n",
       "      <th>7</th>\n",
       "      <td>male</td>\n",
       "      <td>group E</td>\n",
       "      <td>some college</td>\n",
       "      <td>standard</td>\n",
       "      <td>completed</td>\n",
       "      <td>93</td>\n",
       "      <td>88</td>\n",
       "      <td>84</td>\n",
       "    </tr>\n",
       "    <tr>\n",
       "      <th>8</th>\n",
       "      <td>male</td>\n",
       "      <td>group D</td>\n",
       "      <td>high school</td>\n",
       "      <td>standard</td>\n",
       "      <td>none</td>\n",
       "      <td>63</td>\n",
       "      <td>56</td>\n",
       "      <td>65</td>\n",
       "    </tr>\n",
       "    <tr>\n",
       "      <th>9</th>\n",
       "      <td>male</td>\n",
       "      <td>group C</td>\n",
       "      <td>some college</td>\n",
       "      <td>free/reduced</td>\n",
       "      <td>none</td>\n",
       "      <td>47</td>\n",
       "      <td>42</td>\n",
       "      <td>45</td>\n",
       "    </tr>\n",
       "  </tbody>\n",
       "</table>\n",
       "</div>"
      ],
      "text/plain": [
       "   gender race/ethnicity parental level of education         lunch  \\\n",
       "0    male        group A                 high school      standard   \n",
       "1  female        group D            some high school  free/reduced   \n",
       "2    male        group E                some college  free/reduced   \n",
       "3    male        group B                 high school      standard   \n",
       "4    male        group E          associate's degree      standard   \n",
       "5  female        group D                 high school      standard   \n",
       "6  female        group A           bachelor's degree      standard   \n",
       "7    male        group E                some college      standard   \n",
       "8    male        group D                 high school      standard   \n",
       "9    male        group C                some college  free/reduced   \n",
       "\n",
       "  test preparation course  math score  reading score  writing score  \n",
       "0               completed          67             67             63  \n",
       "1                    none          40             59             55  \n",
       "2                    none          59             60             50  \n",
       "3                    none          77             78             68  \n",
       "4               completed          78             73             68  \n",
       "5                    none          63             77             76  \n",
       "6                    none          62             59             63  \n",
       "7               completed          93             88             84  \n",
       "8                    none          63             56             65  \n",
       "9                    none          47             42             45  "
      ]
     },
     "execution_count": 33,
     "metadata": {},
     "output_type": "execute_result"
    }
   ],
   "source": [
    "df.head(10)"
   ]
  },
  {
   "cell_type": "markdown",
   "id": "218c1155",
   "metadata": {},
   "source": [
    "## Bar Graph\n",
    "Shows number of male and female students"
   ]
  },
  {
   "cell_type": "code",
   "execution_count": 34,
   "id": "1c441b4b",
   "metadata": {},
   "outputs": [
    {
     "data": {
      "image/png": "[encoded data removed]",
      "text/plain": [
       "<Figure size 640x480 with 1 Axes>"
      ]
     },
     "metadata": {},
     "output_type": "display_data"
    }
   ],
   "source": [
    "df[\"gender\"].value_counts().plot(kind=\"bar\", rot=0);"
   ]
  },
  {
   "cell_type": "markdown",
   "id": "3055732b",
   "metadata": {},
   "source": [
    "## Scatter Plots\n",
    "Shows correlation between grades in different subjects"
   ]
  },
  {
   "cell_type": "code",
   "execution_count": 35,
   "id": "8ceec639",
   "metadata": {},
   "outputs": [
    {
     "data": {
      "image/png": "[encoded data removed]",
      "text/plain": [
       "<Figure size 1500x500 with 3 Axes>"
      ]
     },
     "metadata": {},
     "output_type": "display_data"
    }
   ],
   "source": [
    "fig, (ax0, ax1, ax2) = plt.subplots(nrows=1,\n",
    "                                   ncols=3,\n",
    "                                   figsize=(15,5))\n",
    "ax0.scatter(df[\"writing score\"], df[\"reading score\"])\n",
    "ax0.set(title=\"Writing / Reading\", xlabel=\"Writing\", ylabel=\"Reading\")\n",
    "ax1.scatter(df[\"reading score\"], df[\"math score\"])\n",
    "ax1.set(title=\"Reading / Math\", xlabel=\"Reading\", ylabel=\"Math\")\n",
    "ax2.scatter(df[\"math score\"], df[\"writing score\"])\n",
    "ax2.set(title=\"Math / Writing\", xlabel=\"Math\", ylabel=\"Writing\");"
   ]
  },
  {
   "cell_type": "markdown",
   "id": "f0354be6",
   "metadata": {},
   "source": [
    "## Replace Text with Numeric Data\n",
    "Replacing values to work with the data"
   ]
  },
  {
   "cell_type": "code",
   "execution_count": 36,
   "id": "08e0ec50",
   "metadata": {},
   "outputs": [],
   "source": [
    "df.replace(to_replace=\"male\", value=1, inplace=True)\n",
    "df.replace(to_replace=\"female\", value=2, inplace=True)\n",
    "df.replace(to_replace=\"group A\", value=1, inplace=True)\n",
    "df.replace(to_replace=\"group B\", value=2, inplace=True)\n",
    "df.replace(to_replace=\"group C\", value=3, inplace=True)\n",
    "df.replace(to_replace=\"group D\", value=4, inplace=True)\n",
    "df.replace(to_replace=\"group E\", value=5, inplace=True)\n",
    "df.replace(to_replace=\"some high school\", value=1, inplace=True)\n",
    "df.replace(to_replace=\"high school\", value=2, inplace=True)\n",
    "df.replace(to_replace=\"some college\", value=3, inplace=True)\n",
    "df.replace(to_replace=\"associate's degree\", value=4, inplace=True)\n",
    "df.replace(to_replace=\"bachelor's degree\", value=5, inplace=True)\n",
    "df.replace(to_replace=\"master's degree\", value=6, inplace=True)\n",
    "df.replace(to_replace=\"free/reduced\", value=1, inplace=True)\n",
    "df.replace(to_replace=\"standard\", value=2, inplace=True)\n",
    "df.replace(to_replace=\"completed\", value=1, inplace=True)\n",
    "df.replace(to_replace=\"none\", value=2, inplace=True)\n",
    "\n",
    "for grade in range(60, 101):\n",
    "    df[\"math score\"].replace(to_replace=grade, value='pass', inplace=True)\n",
    "    df[\"reading score\"].replace(to_replace=grade, value='pass', inplace=True)\n",
    "    df[\"writing score\"].replace(to_replace=grade, value='pass', inplace=True)\n",
    "    \n",
    "for grade in range(0, 60):\n",
    "    df[\"math score\"].replace(to_replace=grade, value='fail', inplace=True)\n",
    "    df[\"reading score\"].replace(to_replace=grade, value='fail', inplace=True)\n",
    "    df[\"writing score\"].replace(to_replace=grade, value='fail', inplace=True)"
   ]
  },
  {
   "cell_type": "markdown",
   "id": "43f3f9fd",
   "metadata": {},
   "source": [
    "# Create the Logistic Regression Model\n",
    "Set columns or groups of columns. We also create input variables (a, b, c, d, e)."
   ]
  },
  {
   "cell_type": "code",
   "execution_count": 37,
   "id": "65d335a1",
   "metadata": {},
   "outputs": [],
   "source": [
    "lm = linear_model.LogisticRegression(max_iter=1000)\n",
    "math = df.values[:, 5]\n",
    "reading = df.values[:, 6]\n",
    "writing = df.values[:, 7]\n",
    "x = df.values[:, 0:5]\n",
    "\n",
    "a, b, c, d, e = 0, 0, 0, 0, 0"
   ]
  },
  {
   "cell_type": "markdown",
   "id": "0ea21f3f",
   "metadata": {},
   "source": [
    "# Get Input\n",
    "Here, you type in intergers associated with the selections. Non integer inputs get logged in a text file."
   ]
  },
  {
   "cell_type": "code",
   "execution_count": 38,
   "id": "8f60f1a7",
   "metadata": {},
   "outputs": [
    {
     "name": "stdout",
     "output_type": "stream",
     "text": [
      "Type the associated integer for your answers\n",
      "What is the gender?\n",
      "\t1. male\n",
      "\t2. female\n",
      "2\n",
      "What is the race/ethnicity?\n",
      "\t1. Group A\n",
      "\t2. Group B\n",
      "\t3. Group C\n",
      "\t4. Group D\n",
      "\t5. Group E\n",
      "2\n",
      "What is the parental level of education?\n",
      "\t1. some high school\n",
      "\t2. high school\n",
      "\t3. some college\n",
      "\t4. associate's degree\n",
      "\t5. bachelor's degree\n",
      "\t6. master's degree\n",
      "2\n",
      "How is your meal plan structured?\n",
      "\t1. free/reduced\n",
      "\t2. standard\n",
      "2\n",
      "Was the test preparation completed?\n",
      "\t1. Yes\n",
      "\t2. No\n",
      "1\n"
     ]
    }
   ],
   "source": [
    "print(\"Type the associated integer for your answers\")\n",
    "\n",
    "f = open(\"invalid.txt\", \"a\")\n",
    "\n",
    "while(a == 0):\n",
    "    try:\n",
    "        a = int(input(\"What is the gender?\\n\\t1. male\\n\\t2. female\\n\"))\n",
    "    except ValueError:\n",
    "        print(\"Integer needed\")\n",
    "        f.write(\"Non int value typed in for gender\\n\")\n",
    "    if (a < 1 or a > 2):\n",
    "        print(\"Select a valid option\")\n",
    "        a = 0\n",
    "\n",
    "while(b == 0):\n",
    "    try:\n",
    "        b = int(input(\"What is the race/ethnicity?\\n\\t1. Group A\\n\\t2. Group B\\n\\t3. Group C\\n\\t4. Group D\\n\\t5. Group E\\n\"))\n",
    "    except ValueError:\n",
    "        print(\"Integer needed\")\n",
    "        f.write(\"Non int value typed in for race/ethnicity\\n\")\n",
    "    if (b < 1 or b > 5):\n",
    "        print(\"Select a valid option\")\n",
    "        b = 0\n",
    "\n",
    "while(c == 0):\n",
    "    try:\n",
    "        c = int(input(\"What is the parental level of education?\\n\\t1. some high school\\n\\t2. high school\\n\\t3. some college\\n\\t\"\n",
    "            \"4. associate's degree\\n\\t5. bachelor's degree\\n\\t6. master's degree\\n\"))\n",
    "    except ValueError:\n",
    "        print(\"Integer needed\")\n",
    "        f.write(\"Non int value typed in for parental level of education\\n\")\n",
    "    if (c < 1 or c > 6):\n",
    "        print(\"Select a valid option\")\n",
    "        c = 0\n",
    "\n",
    "while(d == 0):\n",
    "    try:\n",
    "        d = int(input(\"How is your meal plan structured?\\n\\t1. free/reduced\\n\\t2. standard\\n\"))\n",
    "    except ValueError:\n",
    "        print(\"Integer needed\")\n",
    "        f.write(\"Non int value typed in for meal plan\\n\")\n",
    "    if (d < 1 or d > 2):\n",
    "        print(\"Select a valid option\")\n",
    "        d = 0\n",
    "\n",
    "while(e == 0):\n",
    "    try:\n",
    "        e = int(input(\"Was the test preparation completed?\\n\\t1. Yes\\n\\t2. No\\n\"))\n",
    "    except ValueError:\n",
    "        print(\"Integer needed\")\n",
    "        f.write(\"Non int value typed in for test preparation\\n\")\n",
    "    if (e < 1 or e > 2):\n",
    "        print(\"Select a valid option\")\n",
    "        e = 0\n",
    "\n",
    "f.close()"
   ]
  },
  {
   "cell_type": "markdown",
   "id": "f458a7c5",
   "metadata": {},
   "source": [
    "## Math Training and Predictions\n",
    "\n",
    "Test size of 20% will be used and tested for all 3 subjects."
   ]
  },
  {
   "cell_type": "code",
   "execution_count": 39,
   "id": "e1954a60",
   "metadata": {},
   "outputs": [
    {
     "name": "stdout",
     "output_type": "stream",
     "text": [
      "Model accuracy for math:\n",
      "0.75\n"
     ]
    }
   ],
   "source": [
    "x_train, x_test, y_train, y_test = model_selection.train_test_split(x, math, test_size=0.20)\n",
    "lm.fit(x_train, y_train)\n",
    "y_pred = lm.predict(x_test)\n",
    "print(\"Model accuracy for math:\")\n",
    "print(metrics.accuracy_score(y_test, y_pred))"
   ]
  },
  {
   "cell_type": "markdown",
   "id": "cafe812c",
   "metadata": {},
   "source": [
    "The predictions are printed for whether a student is more likely to pass or fail.<br>\n",
    "Also, the probability of passing is displayed. This is not what their grade is assumed to be.<br>\n",
    "It is the likelyhood that they pass."
   ]
  },
  {
   "cell_type": "code",
   "execution_count": 40,
   "id": "74fa10d8",
   "metadata": {},
   "outputs": [
    {
     "name": "stdout",
     "output_type": "stream",
     "text": [
      "For math, the student is more likely to pass.\n",
      "The probability of passing math is 58.0%. \n",
      "\n"
     ]
    }
   ],
   "source": [
    "print(\"For math, the student is more likely to %s.\" % lm.predict([[a,b,c,d,e]])[0])\n",
    "print(\"The probability of passing math is %s. \\n\" % f'{100*lm.predict_proba([[a,b,c,d,e]])[0][1]:.1f}%')"
   ]
  },
  {
   "cell_type": "markdown",
   "id": "371c1d0d",
   "metadata": {},
   "source": [
    "## Reading Training and Predictions"
   ]
  },
  {
   "cell_type": "code",
   "execution_count": 41,
   "id": "2b529d62",
   "metadata": {},
   "outputs": [
    {
     "name": "stdout",
     "output_type": "stream",
     "text": [
      "Model accuracy for reading:\n",
      "0.81\n"
     ]
    }
   ],
   "source": [
    "x_train, x_test, y_train, y_test = model_selection.train_test_split(x, reading, test_size=0.20)\n",
    "lm.fit(x_train, y_train)\n",
    "y_pred = lm.predict(x_test)\n",
    "print(\"Model accuracy for reading:\")\n",
    "print(metrics.accuracy_score(y_test, y_pred))"
   ]
  },
  {
   "cell_type": "code",
   "execution_count": 42,
   "id": "7e222389",
   "metadata": {},
   "outputs": [
    {
     "name": "stdout",
     "output_type": "stream",
     "text": [
      "For reading, the student is more likely to pass.\n",
      "The probability of passing reading is 89.4%. \n",
      "\n"
     ]
    }
   ],
   "source": [
    "print(\"For reading, the student is more likely to %s.\" % lm.predict([[a,b,c,d,e]])[0])\n",
    "print(\"The probability of passing reading is %s. \\n\" % f'{100*lm.predict_proba([[a,b,c,d,e]])[0][1]:.1f}%')"
   ]
  },
  {
   "cell_type": "markdown",
   "id": "c923a7e3",
   "metadata": {},
   "source": [
    "## Writing Training and Predictions"
   ]
  },
  {
   "cell_type": "code",
   "execution_count": 43,
   "id": "0472a942",
   "metadata": {},
   "outputs": [
    {
     "name": "stdout",
     "output_type": "stream",
     "text": [
      "Model accuracy for writing:\n",
      "0.79\n"
     ]
    }
   ],
   "source": [
    "x_train, x_test, y_train, y_test = model_selection.train_test_split(x, writing, test_size=0.20)\n",
    "lm.fit(x_train, y_train)\n",
    "y_pred = lm.predict(x_test)\n",
    "print(\"Model accuracy for writing:\")\n",
    "print(metrics.accuracy_score(y_test, y_pred))"
   ]
  },
  {
   "cell_type": "code",
   "execution_count": 44,
   "id": "3d8c04c2",
   "metadata": {},
   "outputs": [
    {
     "name": "stdout",
     "output_type": "stream",
     "text": [
      "For writing, the student is more likely to pass.\n",
      "The probability of passing writing is 92.6%. \n",
      "\n"
     ]
    }
   ],
   "source": [
    "print(\"For writing, the student is more likely to %s.\" % lm.predict([[a,b,c,d,e]])[0])\n",
    "print(\"The probability of passing writing is %s. \\n\" % f'{100*lm.predict_proba([[a,b,c,d,e]])[0][1]:.1f}%')"
   ]
  }
 ],
 "metadata": {
  "kernelspec": {
   "display_name": "Python 3 (ipykernel)",
   "language": "python",
   "name": "python3"
  },
  "language_info": {
   "codemirror_mode": {
    "name": "ipython",
    "version": 3
   },
   "file_extension": ".py",
   "mimetype": "text/x-python",
   "name": "python",
   "nbconvert_exporter": "python",
   "pygments_lexer": "ipython3",
   "version": "3.10.4"
  }
 },
 "nbformat": 4,
 "nbformat_minor": 5
}
